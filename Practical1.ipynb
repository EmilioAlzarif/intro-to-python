{
 "cells": [
  {
   "cell_type": "markdown",
   "metadata": {},
   "source": [
    "Problem 2"
   ]
  },
  {
   "cell_type": "code",
   "execution_count": 48,
   "metadata": {},
   "outputs": [
    {
     "name": "stdout",
     "output_type": "stream",
     "text": [
      "The hypotenuse of the triangle ABC = 5.0\n"
     ]
    }
   ],
   "source": [
    "course = \"course:intro to python\"\n",
    "student= \"student:Emil Alzarif\"\n",
    "nickname= \"nickname:EmilioOo\"\n",
    "grade= 100\n",
    "python_expert = True\n",
    "print (course)\n",
    "print(student)\n",
    "print(nickname)\n",
    "print(\"grade =\",grade)\n",
    "print(\"python_expert =\", python_expert)\n"
   ]
  },
  {
   "cell_type": "markdown",
   "metadata": {},
   "source": [
    "Problem 4"
   ]
  },
  {
   "cell_type": "code",
   "execution_count": 49,
   "metadata": {},
   "outputs": [
    {
     "name": "stdout",
     "output_type": "stream",
     "text": [
      "The hypotenuse of the triangle ABC = 5.0\n"
     ]
    }
   ],
   "source": [
    "AB=3\n",
    "AC=4\n",
    "BC= (AB**2 + AC**2)**0.5\n",
    "print(\"The hypotenuse of the triangle ABC =\", BC)\n"
   ]
  }
 ],
 "metadata": {
  "kernelspec": {
   "display_name": "Python 3",
   "language": "python",
   "name": "python3"
  },
  "language_info": {
   "codemirror_mode": {
    "name": "ipython",
    "version": 3
   },
   "file_extension": ".py",
   "mimetype": "text/x-python",
   "name": "python",
   "nbconvert_exporter": "python",
   "pygments_lexer": "ipython3",
   "version": "3.7.4"
  }
 },
 "nbformat": 4,
 "nbformat_minor": 2
}
